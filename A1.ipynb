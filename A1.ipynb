{
 "cells": [
  {
   "cell_type": "code",
   "execution_count": 1,
   "id": "b954ab5c",
   "metadata": {},
   "outputs": [],
   "source": [
    "import numpy as np\n",
    "from MLP.model import MLP\n",
    "import pandas as pd\n",
    "from MLP.layers import SoftmaxCrossEntropy\n",
    "\n",
    "# 导入npy数据集\n",
    "X_train = np.load('Assignment1-Dataset/train_data.npy')\n",
    "X_test = np.load('Assignment1-Dataset/test_data.npy')\n",
    "Y_train = np.load('Assignment1-Dataset/train_label.npy')\n",
    "Y_test = np.load('Assignment1-Dataset/test_label.npy')\n"
   ]
  },
  {
   "cell_type": "code",
   "execution_count": 2,
   "id": "00ce8560",
   "metadata": {},
   "outputs": [
    {
     "data": {
      "text/plain": [
       "((50000, 128), (50000, 1), (10000, 128), (10000, 1))"
      ]
     },
     "execution_count": 2,
     "metadata": {},
     "output_type": "execute_result"
    }
   ],
   "source": [
    "X_train.shape, Y_train.shape, X_test.shape, Y_test.shape"
   ]
  },
  {
   "cell_type": "code",
   "execution_count": 3,
   "id": "fa98f263",
   "metadata": {},
   "outputs": [
    {
     "name": "stdout",
     "output_type": "stream",
     "text": [
      "Epoch 1/10, Loss: 2.3922\n",
      "Epoch 2/10, Loss: 2.3271\n",
      "Epoch 3/10, Loss: 2.2957\n",
      "Epoch 4/10, Loss: 2.2801\n",
      "Epoch 5/10, Loss: 2.2674\n",
      "Epoch 6/10, Loss: 2.2569\n",
      "Epoch 7/10, Loss: 2.2528\n",
      "Epoch 8/10, Loss: 2.2484\n",
      "Epoch 9/10, Loss: 2.2437\n",
      "Epoch 10/10, Loss: 2.2381\n"
     ]
    }
   ],
   "source": [
    "\n",
    "\n",
    "# 超参数\n",
    "input_dim = 128  # 输入数据维度\n",
    "hidden_dims = [64, 32]  # 隐藏层维度\n",
    "output_dim = 10  # 输出类别数（例如10分类）\n",
    "learning_rate = 0.01\n",
    "momentum = 0.5\n",
    "num_epochs = 10\n",
    "batch_size = 32\n",
    "\n",
    "# 创建MLP模型\n",
    "model = MLP(input_dim, hidden_dims, output_dim, dropout_rate=0.3, weight_decay=1e-4)\n",
    "\n",
    "# 初始化动量优化需要的速度\n",
    "velocity = {}\n",
    "\n",
    "# 训练循环\n",
    "for epoch in range(num_epochs):\n",
    "    \n",
    "    epoch_loss = 0\n",
    "    for i in range(0, len(X_train), batch_size):\n",
    "        X_batch = X_train[i:i+batch_size]\n",
    "        Y_batch = Y_train[i:i+batch_size]\n",
    "\n",
    "        Y_batch = Y_batch.flatten()\n",
    "        Y_batch_one_hot = np.eye(output_dim)[Y_batch]\n",
    "        \n",
    "        # 前向传播\n",
    "        logits = model.forward(X_batch, training=True)\n",
    "        \n",
    "        \n",
    "        # 计算损失\n",
    "        loss = model.compute_loss(logits, Y_batch_one_hot)\n",
    "        epoch_loss += loss\n",
    "        \n",
    "        # 反向传播\n",
    "        model.backward()\n",
    "        \n",
    "        # 更新参数\n",
    "        model.update(learning_rate, momentum, velocity)\n",
    "    \n",
    "    # 打印每个epoch的损失\n",
    "    avg_loss = epoch_loss / (len(X_train) // batch_size)\n",
    "    print(f'Epoch {epoch+1}/{num_epochs}, Loss: {avg_loss:.4f}')\n",
    "\n"
   ]
  },
  {
   "cell_type": "code",
   "execution_count": null,
   "id": "dae8ac3e",
   "metadata": {},
   "outputs": [],
   "source": [
    "# Prediction and evaluation"
   ]
  }
 ],
 "metadata": {
  "kernelspec": {
   "display_name": "CXXA1",
   "language": "python",
   "name": "python3"
  },
  "language_info": {
   "codemirror_mode": {
    "name": "ipython",
    "version": 3
   },
   "file_extension": ".py",
   "mimetype": "text/x-python",
   "name": "python",
   "nbconvert_exporter": "python",
   "pygments_lexer": "ipython3",
   "version": "3.10.16"
  }
 },
 "nbformat": 4,
 "nbformat_minor": 5
}
