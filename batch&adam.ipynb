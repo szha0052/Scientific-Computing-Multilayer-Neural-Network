{
 "cells": [
  {
   "cell_type": "code",
   "execution_count": null,
   "metadata": {},
   "outputs": [],
   "source": [
    "import numpy as np\n",
    "\n",
    "# 假设已有MLP类定义，含forward、backward、update_weights等方法\n",
    "\n",
    "def train_minibatch(model, X, y, epochs=10, batch_size=32, learning_rate=0.01):\n",
    "    n_samples = X.shape[0]\n",
    "\n",
    "    for epoch in range(epochs):\n",
    "        permutation = np.random.permutation(n_samples)\n",
    "        X_shuffled = X[permutation]\n",
    "        y_shuffled = y[permutation]\n",
    "        \n",
    "        for i in range(0, n_samples, batch_size):\n",
    "            X_batch = X_shuffled[i:i+batch_size]\n",
    "            y_batch = y_shuffled[i:i+batch_size]\n",
    "\n",
    "            # 前向传播\n",
    "            outputs = model.forward(X_batch)\n",
    "            \n",
    "            # 计算损失\n",
    "            loss = model.loss(outputs, y_batch)\n",
    "\n",
    "            # 反向传播\n",
    "            model.backward(outputs, y_batch)\n",
    "\n",
    "            # 更新权重\n",
    "            model.update_weights(learning_rate)\n",
    "\n",
    "        # 每轮epoch结束后可输出训练进度\n",
    "        print(f'Epoch {epoch + 1}/{epochs}, Loss: {loss:.4f}')\n"
   ]
  },
  {
   "cell_type": "code",
   "execution_count": null,
   "metadata": {},
   "outputs": [],
   "source": [
    "import numpy as np\n",
    "\n",
    "class AdamOptimizer:\n",
    "    def __init__(self, parameters, lr=0.001, beta1=0.9, beta2=0.999, epsilon=1e-8):\n",
    "        self.parameters = parameters  # 模型待优化参数列表\n",
    "        self.lr = lr\n",
    "        self.beta1 = beta1\n",
    "        self.beta2 = beta2\n",
    "        self.epsilon = epsilon\n",
    "\n",
    "        # 初始化一阶矩、二阶矩\n",
    "        self.m = [np.zeros_like(p) for p in self.parameters]\n",
    "        self.v = [np.zeros_like(p) for p in self.parameters]\n",
    "        self.t = 0\n",
    "\n",
    "    def step(self, grads):\n",
    "        self.t += 1\n",
    "        updated_params = []\n",
    "        for i, (p, grad) in enumerate(zip(self.parameters, grads)):\n",
    "            self.m[i] = self.beta1 * self.m[i] + (1 - self.beta1) * grad\n",
    "            self.v[i] = self.beta2 * self.v[i] + (1 - self.beta2) * (grad ** 2)\n",
    "\n",
    "            # 修正一阶矩、二阶矩\n",
    "            m_hat = self.m[i] / (1 - self.beta1 ** self.t)\n",
    "            v_hat = self.v[i] / (1 - self.beta2 ** self.t)\n",
    "\n",
    "            # 参数更新\n",
    "            p_update = self.lr * m_hat / (np.sqrt(v_hat) + self.epsilon)\n",
    "            self.parameters[i] -= p_update\n",
    "\n",
    "            updated_params.append(self.parameters[i])\n",
    "\n",
    "        return updated_params\n"
   ]
  }
 ],
 "metadata": {
  "kernelspec": {
   "display_name": "COMP5703",
   "language": "python",
   "name": "python3"
  },
  "language_info": {
   "name": "python",
   "version": "3.10.16"
  }
 },
 "nbformat": 4,
 "nbformat_minor": 2
}
